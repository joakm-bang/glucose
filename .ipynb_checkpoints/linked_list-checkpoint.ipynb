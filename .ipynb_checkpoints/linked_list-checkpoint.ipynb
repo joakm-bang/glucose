{
 "cells": [
  {
   "cell_type": "code",
   "execution_count": 70,
   "id": "366be28a",
   "metadata": {},
   "outputs": [],
   "source": [
    "class Node: \n",
    "    def __init__(self, value, nxt=None):\n",
    "        self.value = value\n",
    "        self.next = nxt\n",
    "        \n",
    "    def __call__(self):\n",
    "        print(self.value)"
   ]
  },
  {
   "cell_type": "code",
   "execution_count": 71,
   "id": "f161ec51",
   "metadata": {},
   "outputs": [],
   "source": [
    "class LinkedList:\n",
    "    def __init__(self, values):\n",
    "        self.head = Node(None, None)\n",
    "        vs = values + [None]\n",
    "        for n, value in enumerate(values):\n",
    "            node = Node(value, Node(vs[n+1]))\n",
    "            if n == 0:\n",
    "                self.initial_head = node\n",
    "        self.head = self.initial_head\n",
    "    \n",
    "    def next(self):\n",
    "        self.head = self.head.next\n",
    "        \n",
    "    def reset_head(self):\n",
    "        self.head = self.initial_head\n",
    "        \n",
    "    def search_list(self, target):\n",
    "        self.reset_head()\n",
    "        while True:\n",
    "            if self.head.value == target:\n",
    "                return True\n",
    "            if self.head.next is None:\n",
    "                return False\n",
    "            self.next()\n",
    "    \n",
    "    def print_list(self):\n",
    "        self.reset_head()\n",
    "        keep_on = True\n",
    "        while keep_on:\n",
    "            print(self.head.value)\n",
    "            keep_on = self.head.next is not None\n",
    "            self.next()\n"
   ]
  },
  {
   "cell_type": "code",
   "execution_count": 72,
   "id": "4efc2399",
   "metadata": {},
   "outputs": [],
   "source": [
    "ll = LinkedList([3, 2, 5, 6, 8])"
   ]
  },
  {
   "cell_type": "code",
   "execution_count": 73,
   "id": "fa60777b",
   "metadata": {},
   "outputs": [
    {
     "name": "stdout",
     "output_type": "stream",
     "text": [
      "3\n",
      "2\n"
     ]
    }
   ],
   "source": [
    "ll.print_list()"
   ]
  },
  {
   "cell_type": "code",
   "execution_count": 58,
   "id": "0d99e019",
   "metadata": {},
   "outputs": [],
   "source": [
    "ll.reset_head()"
   ]
  },
  {
   "cell_type": "code",
   "execution_count": null,
   "id": "409d51dd",
   "metadata": {},
   "outputs": [],
   "source": []
  },
  {
   "cell_type": "code",
   "execution_count": 25,
   "id": "054db9bc",
   "metadata": {},
   "outputs": [
    {
     "name": "stdout",
     "output_type": "stream",
     "text": [
      "2\n"
     ]
    }
   ],
   "source": [
    "ll.head()"
   ]
  },
  {
   "cell_type": "code",
   "execution_count": 30,
   "id": "7f4554ee",
   "metadata": {},
   "outputs": [],
   "source": [
    "ll = LinkedList([])"
   ]
  },
  {
   "cell_type": "code",
   "execution_count": 31,
   "id": "edda43b9",
   "metadata": {},
   "outputs": [],
   "source": [
    "ll.head"
   ]
  },
  {
   "cell_type": "code",
   "execution_count": null,
   "id": "8b696166",
   "metadata": {},
   "outputs": [],
   "source": []
  }
 ],
 "metadata": {
  "kernelspec": {
   "display_name": "Python 3 (ipykernel)",
   "language": "python",
   "name": "python3"
  },
  "language_info": {
   "codemirror_mode": {
    "name": "ipython",
    "version": 3
   },
   "file_extension": ".py",
   "mimetype": "text/x-python",
   "name": "python",
   "nbconvert_exporter": "python",
   "pygments_lexer": "ipython3",
   "version": "3.9.12"
  }
 },
 "nbformat": 4,
 "nbformat_minor": 5
}
