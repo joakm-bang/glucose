{
 "cells": [
  {
   "cell_type": "code",
   "execution_count": 85,
   "id": "f39b68b4",
   "metadata": {},
   "outputs": [],
   "source": [
    "class Node: \n",
    "    def __init__(self, value):\n",
    "        self.value = value\n",
    "        self.next = None\n",
    "        \n",
    "    def __call__(self):\n",
    "        print(self.value)"
   ]
  },
  {
   "cell_type": "code",
   "execution_count": 86,
   "id": "a10e2499",
   "metadata": {},
   "outputs": [],
   "source": [
    "class LinkedList:\n",
    "    def __init__(self, values=None):\n",
    "        self.head = None\n",
    "        self.tail = None\n",
    "        \n",
    "        if values is not None:\n",
    "            self.add_nodes(values)\n",
    "        \n",
    "    def add_node(self, node):\n",
    "        if self.head is None:\n",
    "            self.head = node\n",
    "            self.tail = node\n",
    "        else:\n",
    "            self.tail.next = node\n",
    "            self.tail = node\n",
    "    \n",
    "    def add_nodes(self, values):\n",
    "        for value in values:\n",
    "            self.add_node(Node(value))\n",
    "            \n",
    "    def print_list(self):\n",
    "        values = []\n",
    "        node = self.head\n",
    "        values.append(node.value)\n",
    "        while node.next is not None:\n",
    "            node = node.next\n",
    "            values.append(node.value)\n",
    "        print(' -> '.join([str(v) for v in values]))\n",
    "    \n",
    "    def search_list(self, target):\n",
    "        node = self.head\n",
    "        if node.value == target:\n",
    "            return True\n",
    "        while node.next is not None:\n",
    "            node = node.next\n",
    "            if node.value == target:\n",
    "                return True\n",
    "        return False\n",
    "            \n",
    "        "
   ]
  },
  {
   "cell_type": "code",
   "execution_count": 87,
   "id": "ad988d4f",
   "metadata": {},
   "outputs": [],
   "source": [
    "ll = LinkedList([3, 2, 5, 6, 8])"
   ]
  },
  {
   "cell_type": "code",
   "execution_count": 91,
   "id": "05718288",
   "metadata": {},
   "outputs": [
    {
     "data": {
      "text/plain": [
       "False"
      ]
     },
     "execution_count": 91,
     "metadata": {},
     "output_type": "execute_result"
    }
   ],
   "source": [
    "ll.search_list(7)"
   ]
  },
  {
   "cell_type": "code",
   "execution_count": null,
   "id": "4fa45115",
   "metadata": {},
   "outputs": [],
   "source": []
  },
  {
   "cell_type": "code",
   "execution_count": null,
   "id": "e325cf0e",
   "metadata": {},
   "outputs": [],
   "source": []
  }
 ],
 "metadata": {
  "kernelspec": {
   "display_name": "Python 3 (ipykernel)",
   "language": "python",
   "name": "python3"
  },
  "language_info": {
   "codemirror_mode": {
    "name": "ipython",
    "version": 3
   },
   "file_extension": ".py",
   "mimetype": "text/x-python",
   "name": "python",
   "nbconvert_exporter": "python",
   "pygments_lexer": "ipython3",
   "version": "3.9.12"
  }
 },
 "nbformat": 4,
 "nbformat_minor": 5
}
